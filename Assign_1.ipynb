{
  "nbformat": 4,
  "nbformat_minor": 0,
  "metadata": {
    "colab": {
      "name": "Assign 1.ipynb",
      "provenance": [],
      "collapsed_sections": []
    },
    "kernelspec": {
      "name": "python3",
      "display_name": "Python 3"
    }
  },
  "cells": [
    {
      "cell_type": "code",
      "metadata": {
        "id": "uZuZmp10sVW5",
        "colab_type": "code",
        "colab": {}
      },
      "source": [
        ""
      ],
      "execution_count": 0,
      "outputs": []
    },
    {
      "cell_type": "markdown",
      "metadata": {
        "id": "-cXeS4Gn6CyP",
        "colab_type": "text"
      },
      "source": [
        "Write a program which will find all such numbers which are divisible by 7 but are not a multiple\n",
        "of 5, between 2000 and 3200 (both included). The numbers obtained should be printed in a\n",
        "comma-separated sequence on a single line."
      ]
    },
    {
      "cell_type": "code",
      "metadata": {
        "id": "FEfO_zX0voHf",
        "colab_type": "code",
        "outputId": "5cde5f94-7f3f-4208-eacc-80def7c795b1",
        "colab": {
          "base_uri": "https://localhost:8080/",
          "height": 53
        }
      },
      "source": [
        "nl=[]\n",
        "for x in range(2000, 3201):\n",
        "  if(x%7==0) and (x%5!=0):\n",
        "    nl.append(str(x))\n",
        "\n",
        "print(','.join(nl))"
      ],
      "execution_count": 0,
      "outputs": [
        {
          "output_type": "stream",
          "text": [
            "2002,2009,2016,2023,2037,2044,2051,2058,2072,2079,2086,2093,2107,2114,2121,2128,2142,2149,2156,2163,2177,2184,2191,2198,2212,2219,2226,2233,2247,2254,2261,2268,2282,2289,2296,2303,2317,2324,2331,2338,2352,2359,2366,2373,2387,2394,2401,2408,2422,2429,2436,2443,2457,2464,2471,2478,2492,2499,2506,2513,2527,2534,2541,2548,2562,2569,2576,2583,2597,2604,2611,2618,2632,2639,2646,2653,2667,2674,2681,2688,2702,2709,2716,2723,2737,2744,2751,2758,2772,2779,2786,2793,2807,2814,2821,2828,2842,2849,2856,2863,2877,2884,2891,2898,2912,2919,2926,2933,2947,2954,2961,2968,2982,2989,2996,3003,3017,3024,3031,3038,3052,3059,3066,3073,3087,3094,3101,3108,3122,3129,3136,3143,3157,3164,3171,3178,3192,3199\n"
          ],
          "name": "stdout"
        }
      ]
    },
    {
      "cell_type": "code",
      "metadata": {
        "id": "2yfMlH5i0AQT",
        "colab_type": "code",
        "colab": {}
      },
      "source": [
        ""
      ],
      "execution_count": 0,
      "outputs": []
    },
    {
      "cell_type": "markdown",
      "metadata": {
        "id": "_mcLJJmL6b1z",
        "colab_type": "text"
      },
      "source": [
        "Write a Python program to accept the user's first and last name and then getting them printed in\n",
        "the the reverse order with a space between first name and last name.\n"
      ]
    },
    {
      "cell_type": "code",
      "metadata": {
        "id": "Dvcpgpm20Avn",
        "colab_type": "code",
        "outputId": "5b546676-efaa-4dc2-c2a8-ca5ee1bb00a7",
        "colab": {
          "base_uri": "https://localhost:8080/",
          "height": 66
        }
      },
      "source": [
        "firstname = input(\"Enter your first name:\")\n",
        "lastname = input(\"Enter your last name:\")\n",
        "print  (lastname + \" \" + firstname)"
      ],
      "execution_count": 0,
      "outputs": [
        {
          "output_type": "stream",
          "text": [
            "Enter your first name:Nirmala\n",
            "Enter your last name:Gowda\n",
            "Gowda Nirmala\n"
          ],
          "name": "stdout"
        }
      ]
    },
    {
      "cell_type": "code",
      "metadata": {
        "id": "K1aDsGcI0A5R",
        "colab_type": "code",
        "colab": {}
      },
      "source": [
        "Write a Python program to find the volume of a sphere with diameter 12 cm.\n"
      ],
      "execution_count": 0,
      "outputs": []
    },
    {
      "cell_type": "code",
      "metadata": {
        "id": "ZkuLmccg9P7Z",
        "colab_type": "code",
        "outputId": "5fd9100a-404c-4d09-98d5-28889a0d13f3",
        "colab": {
          "base_uri": "https://localhost:8080/",
          "height": 33
        }
      },
      "source": [
        "import math\n",
        "\n",
        "pi = math.pi\n",
        "r = float(12/2)\n",
        "V = (float(4/3)*(pi)*(r)**3)\n",
        "print(V)"
      ],
      "execution_count": 0,
      "outputs": [
        {
          "output_type": "stream",
          "text": [
            "904.7786842338603\n"
          ],
          "name": "stdout"
        }
      ]
    },
    {
      "cell_type": "code",
      "metadata": {
        "id": "X-lQeY0G9QKO",
        "colab_type": "code",
        "colab": {}
      },
      "source": [
        ""
      ],
      "execution_count": 0,
      "outputs": []
    },
    {
      "cell_type": "markdown",
      "metadata": {
        "id": "uDcXoL5g_qCu",
        "colab_type": "text"
      },
      "source": [
        "Write a program which accepts a sequence of comma-separated numbers from console and\n",
        "generate a list."
      ]
    },
    {
      "cell_type": "code",
      "metadata": {
        "id": "eySInqbHvoYC",
        "colab_type": "code",
        "outputId": "8727b87d-dff1-47a2-8160-d4ec4572994d",
        "colab": {
          "base_uri": "https://localhost:8080/",
          "height": 66
        }
      },
      "source": [
        "values=input()\n",
        "l=values.split(\",\")\n",
        "t=tuple(l)\n",
        "print(l)\n",
        "print(t)"
      ],
      "execution_count": 0,
      "outputs": [
        {
          "output_type": "stream",
          "text": [
            "32,45,67,23\n",
            "['32', '45', '67', '23']\n",
            "('32', '45', '67', '23')\n"
          ],
          "name": "stdout"
        }
      ]
    },
    {
      "cell_type": "code",
      "metadata": {
        "id": "bjkPi0Py_sFp",
        "colab_type": "code",
        "colab": {}
      },
      "source": [
        ""
      ],
      "execution_count": 0,
      "outputs": []
    },
    {
      "cell_type": "markdown",
      "metadata": {
        "id": "ybQeeZ_iBvE-",
        "colab_type": "text"
      },
      "source": [
        "Create the below pattern using nested for loop in Python."
      ]
    },
    {
      "cell_type": "code",
      "metadata": {
        "id": "KQRpNWMK_sPD",
        "colab_type": "code",
        "outputId": "0eeaff8d-5fdf-4cd2-e41a-0fadc0b4befb",
        "colab": {
          "base_uri": "https://localhost:8080/",
          "height": 261
        }
      },
      "source": [
        "rows = int(input(\"Enter max star to be display on single line \"))\n",
        "for i in range(0, rows):\n",
        "    for j in range(0, i + 1):\n",
        "        print(\"*\", end=' ')\n",
        "    print(\"\\r\")\n",
        "\n",
        "for i in range(rows, 0, -1):\n",
        "    for j in range(0, i - 1):\n",
        "        print(\"*\", end=' ')\n",
        "    print(\"\\r\")"
      ],
      "execution_count": 28,
      "outputs": [
        {
          "output_type": "stream",
          "text": [
            "Enter max star to be display on single line 7\n",
            "* \n",
            "* * \n",
            "* * * \n",
            "* * * * \n",
            "* * * * * \n",
            "* * * * * * \n",
            "* * * * * * * \n",
            "* * * * * * \n",
            "* * * * * \n",
            "* * * * \n",
            "* * * \n",
            "* * \n",
            "* \n",
            "\n"
          ],
          "name": "stdout"
        }
      ]
    },
    {
      "cell_type": "code",
      "metadata": {
        "id": "88YCUArhB9Zm",
        "colab_type": "code",
        "colab": {}
      },
      "source": [
        ""
      ],
      "execution_count": 0,
      "outputs": []
    },
    {
      "cell_type": "markdown",
      "metadata": {
        "id": "MXyBggvsCBEt",
        "colab_type": "text"
      },
      "source": [
        "Write a Python program to reverse a word after accepting the input from the user.\n"
      ]
    },
    {
      "cell_type": "code",
      "metadata": {
        "id": "BRzNiHX5B94N",
        "colab_type": "code",
        "colab": {
          "base_uri": "https://localhost:8080/",
          "height": 50
        },
        "outputId": "832ca0e0-a2fd-4675-a341-94dbcf4f1160"
      },
      "source": [
        "s = input(\"Enter a string: \")\n",
        "print (s[::-1])\n",
        " \n"
      ],
      "execution_count": 33,
      "outputs": [
        {
          "output_type": "stream",
          "text": [
            "Enter a string:  AcadGild\n",
            "dliGdacA \n"
          ],
          "name": "stdout"
        }
      ]
    },
    {
      "cell_type": "code",
      "metadata": {
        "id": "5SeKtROZB-df",
        "colab_type": "code",
        "colab": {}
      },
      "source": [
        ""
      ],
      "execution_count": 0,
      "outputs": []
    },
    {
      "cell_type": "code",
      "metadata": {
        "id": "EBk--LjiOvFM",
        "colab_type": "code",
        "colab": {}
      },
      "source": [
        ""
      ],
      "execution_count": 0,
      "outputs": []
    },
    {
      "cell_type": "markdown",
      "metadata": {
        "id": "CPT3dZs8Ot6S",
        "colab_type": "text"
      },
      "source": [
        "Write a Python Program to print the given string in the format specified in the sample output.\n",
        "WE, THE PEOPLE OF INDIA, having solemnly resolved to constitute India into a\n",
        "SOVEREIGN, SOCIALIST, SECULAR, DEMOCRATIC REPUBLIC and to secure to all\n",
        "its citizens"
      ]
    },
    {
      "cell_type": "code",
      "metadata": {
        "id": "cuBUzQ64B-JT",
        "colab_type": "code",
        "colab": {
          "base_uri": "https://localhost:8080/",
          "height": 82
        },
        "outputId": "1727c322-c582-4662-9765-ea380f307792"
      },
      "source": [
        "\n",
        "print(\"WE, THE PEOPLE OF INDIA,\\n\\thaving solemnly resolved to constitute India into a SOVEREIGN,! \\n\\t\\tSOCIALIST, SECULAR, DEMOCRATIC REPUBLIC \\n\\t\\t and to secure to all its citizens\")"
      ],
      "execution_count": 34,
      "outputs": [
        {
          "output_type": "stream",
          "text": [
            "WE, THE PEOPLE OF INDIA,\n",
            "\thaving solemnly resolved to constitute India into a SOVEREIGN,! \n",
            "\t\tSOCIALIST, SECULAR, DEMOCRATIC REPUBLIC \n",
            "\t\t and to secure to all its citizens\n"
          ],
          "name": "stdout"
        }
      ]
    },
    {
      "cell_type": "code",
      "metadata": {
        "id": "7fsC6g5xOxHe",
        "colab_type": "code",
        "colab": {}
      },
      "source": [
        ""
      ],
      "execution_count": 0,
      "outputs": []
    },
    {
      "cell_type": "code",
      "metadata": {
        "id": "phaHw_LhOxNk",
        "colab_type": "code",
        "colab": {}
      },
      "source": [
        ""
      ],
      "execution_count": 0,
      "outputs": []
    },
    {
      "cell_type": "code",
      "metadata": {
        "id": "Iipx7R27OxU5",
        "colab_type": "code",
        "colab": {}
      },
      "source": [
        ""
      ],
      "execution_count": 0,
      "outputs": []
    }
  ]
}